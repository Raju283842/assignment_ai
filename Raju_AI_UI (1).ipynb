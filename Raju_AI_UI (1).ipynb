{
 "cells": [
  {
   "cell_type": "code",
   "execution_count": 2,
   "id": "7fd653f0",
   "metadata": {},
   "outputs": [
    {
     "data": {
      "application/vnd.jupyter.widget-view+json": {
       "model_id": "1fef9eba9bbb418bbbd9127c0203ef4f",
       "version_major": 2,
       "version_minor": 0
      },
      "text/plain": [
       "FloatText(value=0.0, description='Number 1:', layout=Layout(width='300px'), style=DescriptionStyle(description…"
      ]
     },
     "metadata": {},
     "output_type": "display_data"
    },
    {
     "data": {
      "application/vnd.jupyter.widget-view+json": {
       "model_id": "986d9daec67a467cb3245a9d2d92834a",
       "version_major": 2,
       "version_minor": 0
      },
      "text/plain": [
       "FloatText(value=0.0, description='Number 2:', layout=Layout(width='300px'), style=DescriptionStyle(description…"
      ]
     },
     "metadata": {},
     "output_type": "display_data"
    },
    {
     "data": {
      "application/vnd.jupyter.widget-view+json": {
       "model_id": "b32ddaa12e00478eab514bed352b8d6a",
       "version_major": 2,
       "version_minor": 0
      },
      "text/plain": [
       "FloatText(value=0.0, description='Number 3:', layout=Layout(width='300px'), style=DescriptionStyle(description…"
      ]
     },
     "metadata": {},
     "output_type": "display_data"
    },
    {
     "data": {
      "application/vnd.jupyter.widget-view+json": {
       "model_id": "1da5f326b46b4398913678f056340a0e",
       "version_major": 2,
       "version_minor": 0
      },
      "text/plain": [
       "Dropdown(description='Operation:', layout=Layout(width='300px'), options=('SumOfSquares', 'SumOfCubes'), style…"
      ]
     },
     "metadata": {},
     "output_type": "display_data"
    },
    {
     "data": {
      "application/vnd.jupyter.widget-view+json": {
       "model_id": "b6b1c8213060484da1f975c43705b653",
       "version_major": 2,
       "version_minor": 0
      },
      "text/plain": [
       "Button(button_style='success', description='Calculate', layout=Layout(width='300px'), style=ButtonStyle())"
      ]
     },
     "metadata": {},
     "output_type": "display_data"
    },
    {
     "data": {
      "application/vnd.jupyter.widget-view+json": {
       "model_id": "779642a915494c61b3ca79ac47dd5903",
       "version_major": 2,
       "version_minor": 0
      },
      "text/plain": [
       "Output(layout=Layout(border='2px solid black', height='300px', width='100%'))"
      ]
     },
     "metadata": {},
     "output_type": "display_data"
    }
   ],
   "source": [
    "import rdflib\n",
    "import ipywidgets as widgets\n",
    "from IPython.display import display, HTML\n",
    "\n",
    "# Load the ontology file (.owl)\n",
    "ontology_file = r\"C:\\Users\\AnotherAI\\Downloads\\math_operations.owl\"\n",
    "g = rdflib.Graph()\n",
    "g.parse(ontology_file, format=\"xml\")\n",
    "\n",
    "# Function to add sum of squares and sum of cubes operations\n",
    "def add_operation(op_type, num1, num2, num3):\n",
    "    # Create a unique URI for each operation\n",
    "    operation_uri = rdflib.URIRef(f\"http://example.org#{op_type}{num1}{num2}{num3}\")\n",
    "    \n",
    "    # Define operation type and link to the appropriate class (operation type)\n",
    "    g.add((operation_uri, rdflib.RDF.type, rdflib.URIRef(f\"http://example.org#{op_type}\")))\n",
    "    \n",
    "    # Add numbers to the operation\n",
    "    g.add((operation_uri, rdflib.URIRef(\"http://example.org#hasNum1\"), rdflib.Literal(num1)))\n",
    "    g.add((operation_uri, rdflib.URIRef(\"http://example.org#hasNum2\"), rdflib.Literal(num2)))\n",
    "    g.add((operation_uri, rdflib.URIRef(\"http://example.org#hasNum3\"), rdflib.Literal(num3)))\n",
    "    \n",
    "    # Calculate the sum of squares and sum of cubes\n",
    "    sum_of_squares = (num1**2 + num2**2 + num3**2)\n",
    "    sum_of_cubes = (num1**3 + num2**3 + num3**3)\n",
    "    \n",
    "    # Add the results to the ontology\n",
    "    g.add((operation_uri, rdflib.URIRef(\"http://example.org#hasSumOfSquares\"), rdflib.Literal(sum_of_squares)))\n",
    "    g.add((operation_uri, rdflib.URIRef(\"http://example.org#hasSumOfCubes\"), rdflib.Literal(sum_of_cubes)))\n",
    "    \n",
    "    # Return results\n",
    "    return sum_of_squares, sum_of_cubes\n",
    "\n",
    "# Function to query and display operations\n",
    "def show_operations():\n",
    "    query = \"\"\"\n",
    "        PREFIX ex: <http://example.org#>\n",
    "        SELECT ?operation ?sum_of_squares ?sum_of_cubes WHERE {\n",
    "            ?operation rdf:type ex:MathematicalOperation .\n",
    "            ?operation ex:hasSumOfSquares ?sum_of_squares .\n",
    "            ?operation ex:hasSumOfCubes ?sum_of_cubes .\n",
    "        }\n",
    "    \"\"\"\n",
    "    results = g.query(query)\n",
    "    operations = []\n",
    "    for row in results:\n",
    "        operations.append(f\"Operation: {row.operation}, Sum of Squares: {row.sum_of_squares}, Sum of Cubes: {row.sum_of_cubes}\")\n",
    "    return \"\\n\".join(operations) if operations else \"No operations found.\"\n",
    "\n",
    "# Create widgets for input\n",
    "num1_input = widgets.FloatText(\n",
    "    description=\"Number 1:\",\n",
    "    placeholder=\"Enter number 1\",\n",
    "    style={'description_width': 'initial'},\n",
    "    layout=widgets.Layout(width='300px'),\n",
    "    background_color='lightblue', \n",
    "    font_weight='bold'\n",
    ")\n",
    "\n",
    "num2_input = widgets.FloatText(\n",
    "    description=\"Number 2:\",\n",
    "    placeholder=\"Enter number 2\",\n",
    "    style={'description_width': 'initial'},\n",
    "    layout=widgets.Layout(width='300px'),\n",
    "    background_color='lightgreen',\n",
    "    font_weight='bold'\n",
    ")\n",
    "\n",
    "num3_input = widgets.FloatText(\n",
    "    description=\"Number 3:\",\n",
    "    placeholder=\"Enter number 3\",\n",
    "    style={'description_width': 'initial'},\n",
    "    layout=widgets.Layout(width='300px'),\n",
    "    background_color='lightyellow',\n",
    "    font_weight='bold'\n",
    ")\n",
    "\n",
    "operation_dropdown = widgets.Dropdown(\n",
    "    options=['SumOfSquares', 'SumOfCubes'],\n",
    "    description='Operation:',\n",
    "    style={'description_width': 'initial'},\n",
    "    layout=widgets.Layout(width='300px'),\n",
    "    background_color='lightcoral',\n",
    "    font_weight='bold'\n",
    ")\n",
    "\n",
    "submit_button = widgets.Button(\n",
    "    description=\"Calculate\",\n",
    "    button_style=\"success\", \n",
    "    style={'description_width': 'initial'},\n",
    "    layout=widgets.Layout(width='300px'),\n",
    "    background_color='darkorange',\n",
    "    font_weight='bold'\n",
    ")\n",
    "\n",
    "# Output widget to display results\n",
    "output = widgets.Output(\n",
    "    layout=widgets.Layout(width='100%', height='300px', border='2px solid black', background_color='lightgrey')\n",
    ")\n",
    "\n",
    "# Function to handle button click\n",
    "def on_button_click(b):\n",
    "    num1 = num1_input.value\n",
    "    num2 = num2_input.value\n",
    "    num3 = num3_input.value\n",
    "    operation = operation_dropdown.value\n",
    "    \n",
    "    # Perform the calculation\n",
    "    sum_of_squares, sum_of_cubes = add_operation(operation, num1, num2, num3)\n",
    "    \n",
    "    # Display the results\n",
    "    with output:\n",
    "        display(HTML(f\"<h3 style='color: darkblue;'>Operation: {operation}</h3>\"))\n",
    "        display(HTML(f\"<p style='color: green;'>Sum of Squares: {sum_of_squares}</p>\"))\n",
    "        display(HTML(f\"<p style='color: red;'>Sum of Cubes: {sum_of_cubes}</p>\"))\n",
    "\n",
    "# Link button to function\n",
    "submit_button.on_click(on_button_click)\n",
    "\n",
    "# Display the widgets\n",
    "display(num1_input, num2_input, num3_input, operation_dropdown, submit_button, output)\n"
   ]
  },
  {
   "cell_type": "code",
   "execution_count": null,
   "id": "32dc6cd4",
   "metadata": {},
   "outputs": [],
   "source": []
  }
 ],
 "metadata": {
  "kernelspec": {
   "display_name": "Python 3 (ipykernel)",
   "language": "python",
   "name": "python3"
  },
  "language_info": {
   "codemirror_mode": {
    "name": "ipython",
    "version": 3
   },
   "file_extension": ".py",
   "mimetype": "text/x-python",
   "name": "python",
   "nbconvert_exporter": "python",
   "pygments_lexer": "ipython3",
   "version": "3.9.7"
  }
 },
 "nbformat": 4,
 "nbformat_minor": 5
}
